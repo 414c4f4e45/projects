{
 "cells": [
  {
   "cell_type": "code",
   "execution_count": 1,
   "id": "8022b7c9-21b0-4645-be2c-b58db894a5cc",
   "metadata": {},
   "outputs": [],
   "source": [
    "import numpy as np"
   ]
  },
  {
   "cell_type": "code",
   "execution_count": 61,
   "id": "3cd752fe-d894-4368-8d72-5f9d7c412270",
   "metadata": {},
   "outputs": [],
   "source": [
    "class LinearRegression_manual:\n",
    "    def __init__(self, learning_rate, epochs):\n",
    "        self.learning_rate = learning_rate\n",
    "        self.epochs = epochs\n",
    "    \n",
    "    def fit(self, x, y):\n",
    "        self.m, self.n = x.shape\n",
    "        self.y = y\n",
    "        self.x = np.c_[np.ones((self.m, 1)), x]\n",
    "        self.theta = np.zeros((self.n+1,1))\n",
    "        for epoch in range(self.epochs):\n",
    "            if(epoch%10000==0):print(f\"{epoch=}\")\n",
    "            gradients = self.x.T.dot(self.x.dot(self.theta) - self.y) / self.m\n",
    "            self.theta -= self.learning_rate * gradients\n",
    "    \n",
    "    def predict(self, x):\n",
    "        x = np.c_[np.ones((x.shape[0], 1)), x]\n",
    "        return x.dot(self.theta)\n",
    "\n",
    "    def mean_squared_error(self, y_true, y_pred):\n",
    "        return np.mean((y_true - y_pred) ** 2)"
   ]
  },
  {
   "cell_type": "code",
   "execution_count": 72,
   "id": "e0d2bf65-193b-47e3-b62e-a9e6408d0190",
   "metadata": {
    "scrolled": true
   },
   "outputs": [
    {
     "name": "stdout",
     "output_type": "stream",
     "text": [
      "epoch=0\n",
      "epoch=10000\n",
      "epoch=20000\n",
      "epoch=30000\n",
      "epoch=40000\n",
      "epoch=50000\n",
      "epoch=60000\n",
      "epoch=70000\n",
      "epoch=80000\n",
      "epoch=90000\n",
      "Training Mean Squared Error: 0.21499999999999994\n",
      "Predictions: [[2.27500002]\n",
      " [4.02500001]\n",
      " [5.775     ]]\n",
      "Prediction Mean Squared Error: 0.025625000034740594\n"
     ]
    }
   ],
   "source": [
    "if __name__ == \"__main__\":\n",
    "    X = np.array([[1], [2], [4], [3], [5]])\n",
    "    y = np.array([[1.5], [3.5], [6.0], [4.5], [9.0]])\n",
    "\n",
    "    lr = LinearRegression_manual(learning_rate=0.001, epochs=100000)\n",
    "    lr.fit(X, y)\n",
    "    \n",
    "    training_predictions = lr.predict(X)\n",
    "    training_error = lr.mean_squared_error(y, training_predictions)\n",
    "    print(\"Training Mean Squared Error:\", training_error)\n",
    "\n",
    "    X_new = np.array([[1.5], [2.5], [3.5]])\n",
    "    predictions = lr.predict(X_new)\n",
    "    print(\"Predictions:\", predictions)\n",
    "    y_new_true = np.array([[2.3], [4.0], [5.5]])  # Example true values\n",
    "    prediction_error = lr.mean_squared_error(y_new_true, predictions)\n",
    "    print(\"Prediction Mean Squared Error:\", prediction_error)"
   ]
  },
  {
   "cell_type": "code",
   "execution_count": null,
   "id": "d9a31d7f-bc69-4183-8709-bc9ba690740f",
   "metadata": {},
   "outputs": [],
   "source": []
  }
 ],
 "metadata": {
  "kernelspec": {
   "display_name": "Python 3 (ipykernel)",
   "language": "python",
   "name": "python3"
  },
  "language_info": {
   "codemirror_mode": {
    "name": "ipython",
    "version": 3
   },
   "file_extension": ".py",
   "mimetype": "text/x-python",
   "name": "python",
   "nbconvert_exporter": "python",
   "pygments_lexer": "ipython3",
   "version": "3.10.12"
  }
 },
 "nbformat": 4,
 "nbformat_minor": 5
}
